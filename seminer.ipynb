{
  "nbformat": 4,
  "nbformat_minor": 0,
  "metadata": {
    "colab": {
      "name": "seminer.ipynb",
      "provenance": [],
      "collapsed_sections": [],
      "toc_visible": true,
      "include_colab_link": true
    },
    "kernelspec": {
      "name": "python3",
      "display_name": "Python 3"
    }
  },
  "cells": [
    {
      "cell_type": "markdown",
      "metadata": {
        "id": "view-in-github",
        "colab_type": "text"
      },
      "source": [
        "<a href=\"https://colab.research.google.com/github/teruto725/predict_temperature/blob/master/seminer.ipynb\" target=\"_parent\"><img src=\"https://colab.research.google.com/assets/colab-badge.svg\" alt=\"Open In Colab\"/></a>"
      ]
    },
    {
      "cell_type": "markdown",
      "metadata": {
        "id": "5CbDdKBsN2IL",
        "colab_type": "text"
      },
      "source": [
        "##重回帰分析を用いて各データが最高気温に与える影響を明らかにする\n",
        "#概要\n",
        "データは気象庁のHPより奈良県の天気データを用いる。\n",
        "最高気温を目標変数とし、降水量の合計、日照時間、平均風速、平均雲量を説明変数とする\n",
        "#手法1\n",
        "前処理として各データから平均値を引くことで中心化を行う"
      ]
    },
    {
      "cell_type": "code",
      "metadata": {
        "id": "uBSAOq6m71ya",
        "colab_type": "code",
        "outputId": "7c4e5255-cbeb-421e-882f-e03dca51aab0",
        "colab": {
          "base_uri": "https://localhost:8080/",
          "height": 34
        }
      },
      "source": [
        "#driveとの連携\n",
        "from google.colab import drive\n",
        "drive.mount('/content/drive')"
      ],
      "execution_count": 0,
      "outputs": [
        {
          "output_type": "stream",
          "text": [
            "Drive already mounted at /content/drive; to attempt to forcibly remount, call drive.mount(\"/content/drive\", force_remount=True).\n"
          ],
          "name": "stdout"
        }
      ]
    },
    {
      "cell_type": "code",
      "metadata": {
        "id": "164UhLjOgn46",
        "colab_type": "code",
        "outputId": "9082d4b0-c0b8-4cb8-ed06-cce0c8ff72c7",
        "colab": {
          "base_uri": "https://localhost:8080/",
          "height": 34
        }
      },
      "source": [
        ""
      ],
      "execution_count": 0,
      "outputs": [
        {
          "output_type": "stream",
          "text": [
            "/content/drive/My Drive/School Project/研究力向上セミナー\n"
          ],
          "name": "stdout"
        }
      ]
    },
    {
      "cell_type": "code",
      "metadata": {
        "id": "CfcU0ech79nR",
        "colab_type": "code",
        "outputId": "3a2daf16-627f-4c10-8fd5-e1647fee0c2f",
        "colab": {
          "base_uri": "https://localhost:8080/",
          "height": 436
        }
      },
      "source": [
        "#ファイルの読み込み\n",
        "import numpy as np\n",
        "import pandas as pd\n",
        "from pandas import Series,DataFrame\n",
        "df = pd.read_csv('data.csv', index_col=0)\n",
        "df"
      ],
      "execution_count": 0,
      "outputs": [
        {
          "output_type": "execute_result",
          "data": {
            "text/html": [
              "<div>\n",
              "<style scoped>\n",
              "    .dataframe tbody tr th:only-of-type {\n",
              "        vertical-align: middle;\n",
              "    }\n",
              "\n",
              "    .dataframe tbody tr th {\n",
              "        vertical-align: top;\n",
              "    }\n",
              "\n",
              "    .dataframe thead th {\n",
              "        text-align: right;\n",
              "    }\n",
              "</style>\n",
              "<table border=\"1\" class=\"dataframe\">\n",
              "  <thead>\n",
              "    <tr style=\"text-align: right;\">\n",
              "      <th></th>\n",
              "      <th>平均気温(℃)</th>\n",
              "      <th>最高気温(℃)</th>\n",
              "      <th>最低気温(℃)</th>\n",
              "      <th>降水量の合計(mm)</th>\n",
              "      <th>日照時間(時間)</th>\n",
              "      <th>平均風速(m/s)</th>\n",
              "      <th>平均雲量(10分比)</th>\n",
              "    </tr>\n",
              "    <tr>\n",
              "      <th>年月日</th>\n",
              "      <th></th>\n",
              "      <th></th>\n",
              "      <th></th>\n",
              "      <th></th>\n",
              "      <th></th>\n",
              "      <th></th>\n",
              "      <th></th>\n",
              "    </tr>\n",
              "  </thead>\n",
              "  <tbody>\n",
              "    <tr>\n",
              "      <th>2015/1/1</th>\n",
              "      <td>1.7</td>\n",
              "      <td>5.1</td>\n",
              "      <td>-1.1</td>\n",
              "      <td>2.0</td>\n",
              "      <td>4.0</td>\n",
              "      <td>2.6</td>\n",
              "      <td>7.7</td>\n",
              "    </tr>\n",
              "    <tr>\n",
              "      <th>2015/1/2</th>\n",
              "      <td>1.4</td>\n",
              "      <td>6.0</td>\n",
              "      <td>-1.5</td>\n",
              "      <td>0.0</td>\n",
              "      <td>1.9</td>\n",
              "      <td>2.6</td>\n",
              "      <td>9.7</td>\n",
              "    </tr>\n",
              "    <tr>\n",
              "      <th>2015/1/3</th>\n",
              "      <td>2.8</td>\n",
              "      <td>8.2</td>\n",
              "      <td>-0.9</td>\n",
              "      <td>0.0</td>\n",
              "      <td>4.8</td>\n",
              "      <td>1.7</td>\n",
              "      <td>3.7</td>\n",
              "    </tr>\n",
              "    <tr>\n",
              "      <th>2015/1/4</th>\n",
              "      <td>4.7</td>\n",
              "      <td>10.9</td>\n",
              "      <td>-1.4</td>\n",
              "      <td>0.0</td>\n",
              "      <td>4.6</td>\n",
              "      <td>1.6</td>\n",
              "      <td>7.7</td>\n",
              "    </tr>\n",
              "    <tr>\n",
              "      <th>2015/1/5</th>\n",
              "      <td>5.8</td>\n",
              "      <td>11.6</td>\n",
              "      <td>1.7</td>\n",
              "      <td>0.0</td>\n",
              "      <td>7.3</td>\n",
              "      <td>1.0</td>\n",
              "      <td>7.7</td>\n",
              "    </tr>\n",
              "    <tr>\n",
              "      <th>...</th>\n",
              "      <td>...</td>\n",
              "      <td>...</td>\n",
              "      <td>...</td>\n",
              "      <td>...</td>\n",
              "      <td>...</td>\n",
              "      <td>...</td>\n",
              "      <td>...</td>\n",
              "    </tr>\n",
              "    <tr>\n",
              "      <th>2018/12/28</th>\n",
              "      <td>3.1</td>\n",
              "      <td>7.3</td>\n",
              "      <td>-0.7</td>\n",
              "      <td>0.0</td>\n",
              "      <td>5.9</td>\n",
              "      <td>3.5</td>\n",
              "      <td>6.0</td>\n",
              "    </tr>\n",
              "    <tr>\n",
              "      <th>2018/12/29</th>\n",
              "      <td>2.6</td>\n",
              "      <td>7.5</td>\n",
              "      <td>-1.4</td>\n",
              "      <td>0.0</td>\n",
              "      <td>6.0</td>\n",
              "      <td>3.0</td>\n",
              "      <td>5.0</td>\n",
              "    </tr>\n",
              "    <tr>\n",
              "      <th>2018/12/30</th>\n",
              "      <td>2.5</td>\n",
              "      <td>7.5</td>\n",
              "      <td>-0.5</td>\n",
              "      <td>0.0</td>\n",
              "      <td>4.7</td>\n",
              "      <td>2.2</td>\n",
              "      <td>4.0</td>\n",
              "    </tr>\n",
              "    <tr>\n",
              "      <th>2018/12/31</th>\n",
              "      <td>3.3</td>\n",
              "      <td>6.8</td>\n",
              "      <td>0.2</td>\n",
              "      <td>0.0</td>\n",
              "      <td>0.5</td>\n",
              "      <td>1.4</td>\n",
              "      <td>9.3</td>\n",
              "    </tr>\n",
              "    <tr>\n",
              "      <th>2019/1/1</th>\n",
              "      <td>4.6</td>\n",
              "      <td>10.1</td>\n",
              "      <td>-0.9</td>\n",
              "      <td>0.5</td>\n",
              "      <td>6.8</td>\n",
              "      <td>1.8</td>\n",
              "      <td>7.0</td>\n",
              "    </tr>\n",
              "  </tbody>\n",
              "</table>\n",
              "<p>1462 rows × 7 columns</p>\n",
              "</div>"
            ],
            "text/plain": [
              "            平均気温(℃)  最高気温(℃)  最低気温(℃)  ...  日照時間(時間)  平均風速(m/s)  平均雲量(10分比)\n",
              "年月日                                    ...                                 \n",
              "2015/1/1        1.7      5.1     -1.1  ...       4.0        2.6         7.7\n",
              "2015/1/2        1.4      6.0     -1.5  ...       1.9        2.6         9.7\n",
              "2015/1/3        2.8      8.2     -0.9  ...       4.8        1.7         3.7\n",
              "2015/1/4        4.7     10.9     -1.4  ...       4.6        1.6         7.7\n",
              "2015/1/5        5.8     11.6      1.7  ...       7.3        1.0         7.7\n",
              "...             ...      ...      ...  ...       ...        ...         ...\n",
              "2018/12/28      3.1      7.3     -0.7  ...       5.9        3.5         6.0\n",
              "2018/12/29      2.6      7.5     -1.4  ...       6.0        3.0         5.0\n",
              "2018/12/30      2.5      7.5     -0.5  ...       4.7        2.2         4.0\n",
              "2018/12/31      3.3      6.8      0.2  ...       0.5        1.4         9.3\n",
              "2019/1/1        4.6     10.1     -0.9  ...       6.8        1.8         7.0\n",
              "\n",
              "[1462 rows x 7 columns]"
            ]
          },
          "metadata": {
            "tags": []
          },
          "execution_count": 13
        }
      ]
    },
    {
      "cell_type": "code",
      "metadata": {
        "id": "B9XsVjSjGWGt",
        "colab_type": "code",
        "outputId": "a57b7aa6-ce99-4349-91df-3386cdc6eb5d",
        "colab": {
          "base_uri": "https://localhost:8080/",
          "height": 436
        }
      },
      "source": [
        "#目標変数と環境変数\n",
        "t_df = df['最高気温(℃)']\n",
        "x_df = DataFrame(df['平均雲量(10分比)']).combine_first(DataFrame(df['平均風速(m/s)'])).combine_first(DataFrame(df['日照時間(時間)'])).combine_first(DataFrame(df['降水量の合計(mm)']))\n",
        "x_df"
      ],
      "execution_count": 0,
      "outputs": [
        {
          "output_type": "execute_result",
          "data": {
            "text/html": [
              "<div>\n",
              "<style scoped>\n",
              "    .dataframe tbody tr th:only-of-type {\n",
              "        vertical-align: middle;\n",
              "    }\n",
              "\n",
              "    .dataframe tbody tr th {\n",
              "        vertical-align: top;\n",
              "    }\n",
              "\n",
              "    .dataframe thead th {\n",
              "        text-align: right;\n",
              "    }\n",
              "</style>\n",
              "<table border=\"1\" class=\"dataframe\">\n",
              "  <thead>\n",
              "    <tr style=\"text-align: right;\">\n",
              "      <th></th>\n",
              "      <th>平均雲量(10分比)</th>\n",
              "      <th>平均風速(m/s)</th>\n",
              "      <th>日照時間(時間)</th>\n",
              "      <th>降水量の合計(mm)</th>\n",
              "    </tr>\n",
              "    <tr>\n",
              "      <th>年月日</th>\n",
              "      <th></th>\n",
              "      <th></th>\n",
              "      <th></th>\n",
              "      <th></th>\n",
              "    </tr>\n",
              "  </thead>\n",
              "  <tbody>\n",
              "    <tr>\n",
              "      <th>2015/1/1</th>\n",
              "      <td>7.7</td>\n",
              "      <td>2.6</td>\n",
              "      <td>4.0</td>\n",
              "      <td>2.0</td>\n",
              "    </tr>\n",
              "    <tr>\n",
              "      <th>2015/1/2</th>\n",
              "      <td>9.7</td>\n",
              "      <td>2.6</td>\n",
              "      <td>1.9</td>\n",
              "      <td>0.0</td>\n",
              "    </tr>\n",
              "    <tr>\n",
              "      <th>2015/1/3</th>\n",
              "      <td>3.7</td>\n",
              "      <td>1.7</td>\n",
              "      <td>4.8</td>\n",
              "      <td>0.0</td>\n",
              "    </tr>\n",
              "    <tr>\n",
              "      <th>2015/1/4</th>\n",
              "      <td>7.7</td>\n",
              "      <td>1.6</td>\n",
              "      <td>4.6</td>\n",
              "      <td>0.0</td>\n",
              "    </tr>\n",
              "    <tr>\n",
              "      <th>2015/1/5</th>\n",
              "      <td>7.7</td>\n",
              "      <td>1.0</td>\n",
              "      <td>7.3</td>\n",
              "      <td>0.0</td>\n",
              "    </tr>\n",
              "    <tr>\n",
              "      <th>...</th>\n",
              "      <td>...</td>\n",
              "      <td>...</td>\n",
              "      <td>...</td>\n",
              "      <td>...</td>\n",
              "    </tr>\n",
              "    <tr>\n",
              "      <th>2018/12/28</th>\n",
              "      <td>6.0</td>\n",
              "      <td>3.5</td>\n",
              "      <td>5.9</td>\n",
              "      <td>0.0</td>\n",
              "    </tr>\n",
              "    <tr>\n",
              "      <th>2018/12/29</th>\n",
              "      <td>5.0</td>\n",
              "      <td>3.0</td>\n",
              "      <td>6.0</td>\n",
              "      <td>0.0</td>\n",
              "    </tr>\n",
              "    <tr>\n",
              "      <th>2018/12/30</th>\n",
              "      <td>4.0</td>\n",
              "      <td>2.2</td>\n",
              "      <td>4.7</td>\n",
              "      <td>0.0</td>\n",
              "    </tr>\n",
              "    <tr>\n",
              "      <th>2018/12/31</th>\n",
              "      <td>9.3</td>\n",
              "      <td>1.4</td>\n",
              "      <td>0.5</td>\n",
              "      <td>0.0</td>\n",
              "    </tr>\n",
              "    <tr>\n",
              "      <th>2019/1/1</th>\n",
              "      <td>7.0</td>\n",
              "      <td>1.8</td>\n",
              "      <td>6.8</td>\n",
              "      <td>0.5</td>\n",
              "    </tr>\n",
              "  </tbody>\n",
              "</table>\n",
              "<p>1462 rows × 4 columns</p>\n",
              "</div>"
            ],
            "text/plain": [
              "            平均雲量(10分比)  平均風速(m/s)  日照時間(時間)  降水量の合計(mm)\n",
              "年月日                                                    \n",
              "2015/1/1           7.7        2.6       4.0         2.0\n",
              "2015/1/2           9.7        2.6       1.9         0.0\n",
              "2015/1/3           3.7        1.7       4.8         0.0\n",
              "2015/1/4           7.7        1.6       4.6         0.0\n",
              "2015/1/5           7.7        1.0       7.3         0.0\n",
              "...                ...        ...       ...         ...\n",
              "2018/12/28         6.0        3.5       5.9         0.0\n",
              "2018/12/29         5.0        3.0       6.0         0.0\n",
              "2018/12/30         4.0        2.2       4.7         0.0\n",
              "2018/12/31         9.3        1.4       0.5         0.0\n",
              "2019/1/1           7.0        1.8       6.8         0.5\n",
              "\n",
              "[1462 rows x 4 columns]"
            ]
          },
          "metadata": {
            "tags": []
          },
          "execution_count": 14
        }
      ]
    },
    {
      "cell_type": "code",
      "metadata": {
        "id": "avoTFM2GrNea",
        "colab_type": "code",
        "colab": {}
      },
      "source": [
        "#前処理\n",
        "x_ave = x_df.mean()\n",
        "x_df = x_df-x_ave\n"
      ],
      "execution_count": 0,
      "outputs": []
    },
    {
      "cell_type": "code",
      "metadata": {
        "id": "d4NSzMA_J1_1",
        "colab_type": "code",
        "outputId": "ef1e2950-e7fa-4e2c-ab54-c35a3d20d992",
        "colab": {
          "base_uri": "https://localhost:8080/",
          "height": 34
        }
      },
      "source": [
        "#モデルによる学習\n",
        "from sklearn.linear_model import LinearRegression\n",
        "reg_model = LinearRegression()\n",
        "reg_model.fit(x_df,t_df)"
      ],
      "execution_count": 0,
      "outputs": [
        {
          "output_type": "execute_result",
          "data": {
            "text/plain": [
              "LinearRegression(copy_X=True, fit_intercept=True, n_jobs=None, normalize=False)"
            ]
          },
          "metadata": {
            "tags": []
          },
          "execution_count": 16
        }
      ]
    },
    {
      "cell_type": "code",
      "metadata": {
        "id": "Zu_fU7hZL5L9",
        "colab_type": "code",
        "outputId": "3491842c-00a8-4ca6-9c60-43c833515f9a",
        "colab": {
          "base_uri": "https://localhost:8080/",
          "height": 34
        }
      },
      "source": [
        "#重み\n",
        "reg_model.coef_\n"
      ],
      "execution_count": 0,
      "outputs": [
        {
          "output_type": "execute_result",
          "data": {
            "text/plain": [
              "array([ 1.37447002, -1.03353168,  1.55149683,  0.11872549])"
            ]
          },
          "metadata": {
            "tags": []
          },
          "execution_count": 17
        }
      ]
    },
    {
      "cell_type": "code",
      "metadata": {
        "id": "__cOB91AL-Kl",
        "colab_type": "code",
        "outputId": "9c45af5f-09f7-42c9-cd65-b235b0284dcf",
        "colab": {
          "base_uri": "https://localhost:8080/",
          "height": 34
        }
      },
      "source": [
        "#バイアス（中心化したため0)\n",
        "reg_model.intercept_"
      ],
      "execution_count": 0,
      "outputs": [
        {
          "output_type": "execute_result",
          "data": {
            "text/plain": [
              "21.21203830369359"
            ]
          },
          "metadata": {
            "tags": []
          },
          "execution_count": 18
        }
      ]
    },
    {
      "cell_type": "code",
      "metadata": {
        "id": "aMw6drVHMIQ9",
        "colab_type": "code",
        "outputId": "f426b289-c324-41a0-ee10-c3042d1ea798",
        "colab": {
          "base_uri": "https://localhost:8080/",
          "height": 34
        }
      },
      "source": [
        "#決定係数\n",
        "reg_model.score(x_df,t_df)"
      ],
      "execution_count": 0,
      "outputs": [
        {
          "output_type": "execute_result",
          "data": {
            "text/plain": [
              "0.24378943357563376"
            ]
          },
          "metadata": {
            "tags": []
          },
          "execution_count": 19
        }
      ]
    },
    {
      "cell_type": "markdown",
      "metadata": {
        "id": "XaFto-zsKoJt",
        "colab_type": "text"
      },
      "source": [
        "決定係数があまりよくない"
      ]
    },
    {
      "cell_type": "markdown",
      "metadata": {
        "id": "Ak5IBVaSpIOu",
        "colab_type": "text"
      },
      "source": [
        "#手法2\n",
        "前処理として標準化を行い手法1と比較する"
      ]
    },
    {
      "cell_type": "code",
      "metadata": {
        "id": "Z7K8l5ono6Nr",
        "colab_type": "code",
        "colab": {}
      },
      "source": [
        "#前処理（標準化)"
      ],
      "execution_count": 0,
      "outputs": []
    },
    {
      "cell_type": "code",
      "metadata": {
        "id": "9RJA2XepujXu",
        "colab_type": "code",
        "outputId": "252c3027-16df-4ec2-c07b-7c814946420a",
        "colab": {
          "base_uri": "https://localhost:8080/",
          "height": 141
        }
      },
      "source": [
        "from sklearn.preprocessing import StandardScaler\n",
        "scaler = StandardScaler()\n",
        "scaler.fit(x_df)\n",
        "x_df = scaler.transform(x_df)\n",
        "x_df"
      ],
      "execution_count": 0,
      "outputs": [
        {
          "output_type": "execute_result",
          "data": {
            "text/plain": [
              "array([[ 0.15936507,  1.21183827, -0.306425  , -0.17912017],\n",
              "       [ 0.83903756,  1.21183827, -0.84679608, -0.35257516],\n",
              "       [-1.19997991,  0.01814401, -0.10056936, -0.35257516],\n",
              "       ...,\n",
              "       [-1.09802903,  0.68130749, -0.12630131, -0.35257516],\n",
              "       [ 0.70310306, -0.37975408, -1.20704347, -0.35257516],\n",
              "       [-0.0785203 ,  0.1507767 ,  0.41406977, -0.30921141]])"
            ]
          },
          "metadata": {
            "tags": []
          },
          "execution_count": 21
        }
      ]
    },
    {
      "cell_type": "code",
      "metadata": {
        "id": "GgMQ2I81wCAG",
        "colab_type": "code",
        "outputId": "01ba260b-e651-4b1e-f911-f7fccf0935ab",
        "colab": {
          "base_uri": "https://localhost:8080/",
          "height": 34
        }
      },
      "source": [
        "#モデルによる学習\n",
        "from sklearn.linear_model import LinearRegression\n",
        "reg_model = LinearRegression()\n",
        "reg_model.fit(x_df,t_df)"
      ],
      "execution_count": 0,
      "outputs": [
        {
          "output_type": "execute_result",
          "data": {
            "text/plain": [
              "LinearRegression(copy_X=True, fit_intercept=True, n_jobs=None, normalize=False)"
            ]
          },
          "metadata": {
            "tags": []
          },
          "execution_count": 22
        }
      ]
    },
    {
      "cell_type": "code",
      "metadata": {
        "id": "i4ZkUYgKv7gv",
        "colab_type": "code",
        "outputId": "2998f92b-0c64-4b50-8947-6224c52bd302",
        "colab": {
          "base_uri": "https://localhost:8080/",
          "height": 34
        }
      },
      "source": [
        "#重み\n",
        "reg_model.coef_"
      ],
      "execution_count": 0,
      "outputs": [
        {
          "output_type": "execute_result",
          "data": {
            "text/plain": [
              "array([ 4.04450687, -0.77924351,  6.02945546,  1.36894857])"
            ]
          },
          "metadata": {
            "tags": []
          },
          "execution_count": 23
        }
      ]
    },
    {
      "cell_type": "code",
      "metadata": {
        "id": "ZRwBiZxAxgRG",
        "colab_type": "code",
        "outputId": "a0e38595-fd3e-44cd-a069-86aca1d79d8a",
        "colab": {
          "base_uri": "https://localhost:8080/",
          "height": 34
        }
      },
      "source": [
        "#バイアス（標準化したため0)\n",
        "reg_model.intercept_"
      ],
      "execution_count": 0,
      "outputs": [
        {
          "output_type": "execute_result",
          "data": {
            "text/plain": [
              "21.21203830369357"
            ]
          },
          "metadata": {
            "tags": []
          },
          "execution_count": 24
        }
      ]
    },
    {
      "cell_type": "code",
      "metadata": {
        "id": "h5WKLZBkxf_u",
        "colab_type": "code",
        "outputId": "61c27b3c-2e2e-4337-a030-fc6912ec7a02",
        "colab": {
          "base_uri": "https://localhost:8080/",
          "height": 34
        }
      },
      "source": [
        "#決定係数\n",
        "reg_model.score(x_df,t_df)"
      ],
      "execution_count": 0,
      "outputs": [
        {
          "output_type": "execute_result",
          "data": {
            "text/plain": [
              "0.24378943357563376"
            ]
          },
          "metadata": {
            "tags": []
          },
          "execution_count": 25
        }
      ]
    },
    {
      "cell_type": "markdown",
      "metadata": {
        "id": "EjBA6_RsKfXQ",
        "colab_type": "text"
      },
      "source": [
        "#結論\n",
        "変化しなかった．"
      ]
    },
    {
      "cell_type": "markdown",
      "metadata": {
        "id": "V6XJ4WDiKaxI",
        "colab_type": "text"
      },
      "source": [
        "#手法3\n",
        "説明変数に問題があると考え、新たな説明変数として合計全天日射量を追加"
      ]
    },
    {
      "cell_type": "code",
      "metadata": {
        "id": "ZzrD9XhaKaKR",
        "colab_type": "code",
        "outputId": "286d567e-5f7e-43e9-d9a6-c6ed13656673",
        "colab": {
          "base_uri": "https://localhost:8080/",
          "height": 436
        }
      },
      "source": [
        "#決定係数\n",
        "from pandas import Series,DataFrame\n",
        "df = pd.read_csv('data_sunvalue.csv', index_col=0)\n",
        "df"
      ],
      "execution_count": 0,
      "outputs": [
        {
          "output_type": "execute_result",
          "data": {
            "text/html": [
              "<div>\n",
              "<style scoped>\n",
              "    .dataframe tbody tr th:only-of-type {\n",
              "        vertical-align: middle;\n",
              "    }\n",
              "\n",
              "    .dataframe tbody tr th {\n",
              "        vertical-align: top;\n",
              "    }\n",
              "\n",
              "    .dataframe thead th {\n",
              "        text-align: right;\n",
              "    }\n",
              "</style>\n",
              "<table border=\"1\" class=\"dataframe\">\n",
              "  <thead>\n",
              "    <tr style=\"text-align: right;\">\n",
              "      <th></th>\n",
              "      <th>最高気温(℃)</th>\n",
              "      <th>降水量の合計(mm)</th>\n",
              "      <th>平均雲量(10分比)</th>\n",
              "      <th>日照時間(時間)</th>\n",
              "      <th>合計全天日射量(MJ/㎡)</th>\n",
              "      <th>平均風速(m/s)</th>\n",
              "    </tr>\n",
              "    <tr>\n",
              "      <th>年月日</th>\n",
              "      <th></th>\n",
              "      <th></th>\n",
              "      <th></th>\n",
              "      <th></th>\n",
              "      <th></th>\n",
              "      <th></th>\n",
              "    </tr>\n",
              "  </thead>\n",
              "  <tbody>\n",
              "    <tr>\n",
              "      <th>2015/1/1</th>\n",
              "      <td>5.1</td>\n",
              "      <td>2.0</td>\n",
              "      <td>7.7</td>\n",
              "      <td>4.0</td>\n",
              "      <td>7.38</td>\n",
              "      <td>2.6</td>\n",
              "    </tr>\n",
              "    <tr>\n",
              "      <th>2015/1/2</th>\n",
              "      <td>6.0</td>\n",
              "      <td>0.0</td>\n",
              "      <td>9.7</td>\n",
              "      <td>1.9</td>\n",
              "      <td>6.50</td>\n",
              "      <td>2.6</td>\n",
              "    </tr>\n",
              "    <tr>\n",
              "      <th>2015/1/3</th>\n",
              "      <td>8.2</td>\n",
              "      <td>0.0</td>\n",
              "      <td>3.7</td>\n",
              "      <td>4.8</td>\n",
              "      <td>9.22</td>\n",
              "      <td>1.7</td>\n",
              "    </tr>\n",
              "    <tr>\n",
              "      <th>2015/1/4</th>\n",
              "      <td>10.9</td>\n",
              "      <td>0.0</td>\n",
              "      <td>7.7</td>\n",
              "      <td>4.6</td>\n",
              "      <td>8.26</td>\n",
              "      <td>1.6</td>\n",
              "    </tr>\n",
              "    <tr>\n",
              "      <th>2015/1/5</th>\n",
              "      <td>11.6</td>\n",
              "      <td>0.0</td>\n",
              "      <td>7.7</td>\n",
              "      <td>7.3</td>\n",
              "      <td>10.46</td>\n",
              "      <td>1.0</td>\n",
              "    </tr>\n",
              "    <tr>\n",
              "      <th>...</th>\n",
              "      <td>...</td>\n",
              "      <td>...</td>\n",
              "      <td>...</td>\n",
              "      <td>...</td>\n",
              "      <td>...</td>\n",
              "      <td>...</td>\n",
              "    </tr>\n",
              "    <tr>\n",
              "      <th>2018/12/28</th>\n",
              "      <td>7.3</td>\n",
              "      <td>0.0</td>\n",
              "      <td>6.0</td>\n",
              "      <td>5.9</td>\n",
              "      <td>10.44</td>\n",
              "      <td>3.5</td>\n",
              "    </tr>\n",
              "    <tr>\n",
              "      <th>2018/12/29</th>\n",
              "      <td>7.5</td>\n",
              "      <td>0.0</td>\n",
              "      <td>5.0</td>\n",
              "      <td>6.0</td>\n",
              "      <td>9.04</td>\n",
              "      <td>3.0</td>\n",
              "    </tr>\n",
              "    <tr>\n",
              "      <th>2018/12/30</th>\n",
              "      <td>7.5</td>\n",
              "      <td>0.0</td>\n",
              "      <td>4.0</td>\n",
              "      <td>4.7</td>\n",
              "      <td>8.04</td>\n",
              "      <td>2.2</td>\n",
              "    </tr>\n",
              "    <tr>\n",
              "      <th>2018/12/31</th>\n",
              "      <td>6.8</td>\n",
              "      <td>0.0</td>\n",
              "      <td>9.3</td>\n",
              "      <td>0.5</td>\n",
              "      <td>4.75</td>\n",
              "      <td>1.4</td>\n",
              "    </tr>\n",
              "    <tr>\n",
              "      <th>2019/1/1</th>\n",
              "      <td>10.1</td>\n",
              "      <td>0.5</td>\n",
              "      <td>7.0</td>\n",
              "      <td>6.8</td>\n",
              "      <td>10.42</td>\n",
              "      <td>1.8</td>\n",
              "    </tr>\n",
              "  </tbody>\n",
              "</table>\n",
              "<p>1462 rows × 6 columns</p>\n",
              "</div>"
            ],
            "text/plain": [
              "            最高気温(℃)  降水量の合計(mm)  平均雲量(10分比)  日照時間(時間)  合計全天日射量(MJ/㎡)  平均風速(m/s)\n",
              "年月日                                                                            \n",
              "2015/1/1        5.1         2.0         7.7       4.0           7.38        2.6\n",
              "2015/1/2        6.0         0.0         9.7       1.9           6.50        2.6\n",
              "2015/1/3        8.2         0.0         3.7       4.8           9.22        1.7\n",
              "2015/1/4       10.9         0.0         7.7       4.6           8.26        1.6\n",
              "2015/1/5       11.6         0.0         7.7       7.3          10.46        1.0\n",
              "...             ...         ...         ...       ...            ...        ...\n",
              "2018/12/28      7.3         0.0         6.0       5.9          10.44        3.5\n",
              "2018/12/29      7.5         0.0         5.0       6.0           9.04        3.0\n",
              "2018/12/30      7.5         0.0         4.0       4.7           8.04        2.2\n",
              "2018/12/31      6.8         0.0         9.3       0.5           4.75        1.4\n",
              "2019/1/1       10.1         0.5         7.0       6.8          10.42        1.8\n",
              "\n",
              "[1462 rows x 6 columns]"
            ]
          },
          "metadata": {
            "tags": []
          },
          "execution_count": 26
        }
      ]
    },
    {
      "cell_type": "code",
      "metadata": {
        "id": "2bgwzdb9YW_S",
        "colab_type": "code",
        "outputId": "73787baa-e75d-424e-b3e7-a2be7dc0cc36",
        "colab": {
          "base_uri": "https://localhost:8080/",
          "height": 141
        }
      },
      "source": [
        "#欠損のある行を削除\n",
        "df = df.dropna()\n",
        "df.isnull().sum()"
      ],
      "execution_count": 0,
      "outputs": [
        {
          "output_type": "execute_result",
          "data": {
            "text/plain": [
              "最高気温(℃)          0\n",
              "降水量の合計(mm)       0\n",
              "平均雲量(10分比)       0\n",
              "日照時間(時間)         0\n",
              "合計全天日射量(MJ/㎡)    0\n",
              "平均風速(m/s)        0\n",
              "dtype: int64"
            ]
          },
          "metadata": {
            "tags": []
          },
          "execution_count": 27
        }
      ]
    },
    {
      "cell_type": "code",
      "metadata": {
        "id": "bcUbXuJBL6IY",
        "colab_type": "code",
        "colab": {}
      },
      "source": [
        "#目標変数と説明変数に分割\n",
        "t_df = DataFrame(df[\"最高気温(℃)\"])\n",
        "x_df = pd.concat([DataFrame(df[\"降水量の合計(mm)\"]),DataFrame(df[\"日照時間(時間)\"]),DataFrame(df['合計全天日射量(MJ/㎡)']),DataFrame(df['平均風速(m/s)']),DataFrame(df['平均雲量(10分比)'])],axis=1,join='inner')\n"
      ],
      "execution_count": 0,
      "outputs": []
    },
    {
      "cell_type": "code",
      "metadata": {
        "id": "5WNLuYlZLfZC",
        "colab_type": "code",
        "outputId": "b6ecdabb-5104-4f0a-d45d-7c376af2e072",
        "colab": {
          "base_uri": "https://localhost:8080/",
          "height": 436
        }
      },
      "source": [
        "#前処理\n",
        "x_ave = x_df.mean()\n",
        "x_df = x_df-x_ave\n",
        "x_df"
      ],
      "execution_count": 0,
      "outputs": [
        {
          "output_type": "execute_result",
          "data": {
            "text/html": [
              "<div>\n",
              "<style scoped>\n",
              "    .dataframe tbody tr th:only-of-type {\n",
              "        vertical-align: middle;\n",
              "    }\n",
              "\n",
              "    .dataframe tbody tr th {\n",
              "        vertical-align: top;\n",
              "    }\n",
              "\n",
              "    .dataframe thead th {\n",
              "        text-align: right;\n",
              "    }\n",
              "</style>\n",
              "<table border=\"1\" class=\"dataframe\">\n",
              "  <thead>\n",
              "    <tr style=\"text-align: right;\">\n",
              "      <th></th>\n",
              "      <th>降水量の合計(mm)</th>\n",
              "      <th>日照時間(時間)</th>\n",
              "      <th>合計全天日射量(MJ/㎡)</th>\n",
              "      <th>平均風速(m/s)</th>\n",
              "      <th>平均雲量(10分比)</th>\n",
              "    </tr>\n",
              "    <tr>\n",
              "      <th>年月日</th>\n",
              "      <th></th>\n",
              "      <th></th>\n",
              "      <th></th>\n",
              "      <th></th>\n",
              "      <th></th>\n",
              "    </tr>\n",
              "  </thead>\n",
              "  <tbody>\n",
              "    <tr>\n",
              "      <th>2015/1/1</th>\n",
              "      <td>-2.073681</td>\n",
              "      <td>-1.189102</td>\n",
              "      <td>-6.197019</td>\n",
              "      <td>0.914668</td>\n",
              "      <td>0.466415</td>\n",
              "    </tr>\n",
              "    <tr>\n",
              "      <th>2015/1/2</th>\n",
              "      <td>-4.073681</td>\n",
              "      <td>-3.289102</td>\n",
              "      <td>-7.077019</td>\n",
              "      <td>0.914668</td>\n",
              "      <td>2.466415</td>\n",
              "    </tr>\n",
              "    <tr>\n",
              "      <th>2015/1/3</th>\n",
              "      <td>-4.073681</td>\n",
              "      <td>-0.389102</td>\n",
              "      <td>-4.357019</td>\n",
              "      <td>0.014668</td>\n",
              "      <td>-3.533585</td>\n",
              "    </tr>\n",
              "    <tr>\n",
              "      <th>2015/1/4</th>\n",
              "      <td>-4.073681</td>\n",
              "      <td>-0.589102</td>\n",
              "      <td>-5.317019</td>\n",
              "      <td>-0.085332</td>\n",
              "      <td>0.466415</td>\n",
              "    </tr>\n",
              "    <tr>\n",
              "      <th>2015/1/5</th>\n",
              "      <td>-4.073681</td>\n",
              "      <td>2.110898</td>\n",
              "      <td>-3.117019</td>\n",
              "      <td>-0.685332</td>\n",
              "      <td>0.466415</td>\n",
              "    </tr>\n",
              "    <tr>\n",
              "      <th>...</th>\n",
              "      <td>...</td>\n",
              "      <td>...</td>\n",
              "      <td>...</td>\n",
              "      <td>...</td>\n",
              "      <td>...</td>\n",
              "    </tr>\n",
              "    <tr>\n",
              "      <th>2018/12/28</th>\n",
              "      <td>-4.073681</td>\n",
              "      <td>0.710898</td>\n",
              "      <td>-3.137019</td>\n",
              "      <td>1.814668</td>\n",
              "      <td>-1.233585</td>\n",
              "    </tr>\n",
              "    <tr>\n",
              "      <th>2018/12/29</th>\n",
              "      <td>-4.073681</td>\n",
              "      <td>0.810898</td>\n",
              "      <td>-4.537019</td>\n",
              "      <td>1.314668</td>\n",
              "      <td>-2.233585</td>\n",
              "    </tr>\n",
              "    <tr>\n",
              "      <th>2018/12/30</th>\n",
              "      <td>-4.073681</td>\n",
              "      <td>-0.489102</td>\n",
              "      <td>-5.537019</td>\n",
              "      <td>0.514668</td>\n",
              "      <td>-3.233585</td>\n",
              "    </tr>\n",
              "    <tr>\n",
              "      <th>2018/12/31</th>\n",
              "      <td>-4.073681</td>\n",
              "      <td>-4.689102</td>\n",
              "      <td>-8.827019</td>\n",
              "      <td>-0.285332</td>\n",
              "      <td>2.066415</td>\n",
              "    </tr>\n",
              "    <tr>\n",
              "      <th>2019/1/1</th>\n",
              "      <td>-3.573681</td>\n",
              "      <td>1.610898</td>\n",
              "      <td>-3.157019</td>\n",
              "      <td>0.114668</td>\n",
              "      <td>-0.233585</td>\n",
              "    </tr>\n",
              "  </tbody>\n",
              "</table>\n",
              "<p>1459 rows × 5 columns</p>\n",
              "</div>"
            ],
            "text/plain": [
              "            降水量の合計(mm)  日照時間(時間)  合計全天日射量(MJ/㎡)  平均風速(m/s)  平均雲量(10分比)\n",
              "年月日                                                                   \n",
              "2015/1/1     -2.073681 -1.189102      -6.197019   0.914668    0.466415\n",
              "2015/1/2     -4.073681 -3.289102      -7.077019   0.914668    2.466415\n",
              "2015/1/3     -4.073681 -0.389102      -4.357019   0.014668   -3.533585\n",
              "2015/1/4     -4.073681 -0.589102      -5.317019  -0.085332    0.466415\n",
              "2015/1/5     -4.073681  2.110898      -3.117019  -0.685332    0.466415\n",
              "...                ...       ...            ...        ...         ...\n",
              "2018/12/28   -4.073681  0.710898      -3.137019   1.814668   -1.233585\n",
              "2018/12/29   -4.073681  0.810898      -4.537019   1.314668   -2.233585\n",
              "2018/12/30   -4.073681 -0.489102      -5.537019   0.514668   -3.233585\n",
              "2018/12/31   -4.073681 -4.689102      -8.827019  -0.285332    2.066415\n",
              "2019/1/1     -3.573681  1.610898      -3.157019   0.114668   -0.233585\n",
              "\n",
              "[1459 rows x 5 columns]"
            ]
          },
          "metadata": {
            "tags": []
          },
          "execution_count": 34
        }
      ]
    },
    {
      "cell_type": "code",
      "metadata": {
        "id": "288hmr2cVRcr",
        "colab_type": "code",
        "outputId": "e10b1e91-f3dd-4a63-acaf-440db57e52a7",
        "colab": {
          "base_uri": "https://localhost:8080/",
          "height": 34
        }
      },
      "source": [
        "#学習\n",
        "from sklearn.linear_model import LinearRegression\n",
        "reg_model = LinearRegression()\n",
        "reg_model.fit(x_df,t_df)"
      ],
      "execution_count": 0,
      "outputs": [
        {
          "output_type": "execute_result",
          "data": {
            "text/plain": [
              "LinearRegression(copy_X=True, fit_intercept=True, n_jobs=None, normalize=False)"
            ]
          },
          "metadata": {
            "tags": []
          },
          "execution_count": 35
        }
      ]
    },
    {
      "cell_type": "code",
      "metadata": {
        "id": "z0UfYdyccOqT",
        "colab_type": "code",
        "outputId": "cb51f012-a6ad-4d75-a7e0-a523a867bd75",
        "colab": {
          "base_uri": "https://localhost:8080/",
          "height": 34
        }
      },
      "source": [
        "#重み\n",
        "reg_model.coef_"
      ],
      "execution_count": 0,
      "outputs": [
        {
          "output_type": "execute_result",
          "data": {
            "text/plain": [
              "array([[ 0.14959149, -1.78370074,  1.69700284, -1.84055368,  0.32522739]])"
            ]
          },
          "metadata": {
            "tags": []
          },
          "execution_count": 36
        }
      ]
    },
    {
      "cell_type": "code",
      "metadata": {
        "id": "_sly3kTlcT3Z",
        "colab_type": "code",
        "outputId": "616bf35a-7389-41a9-a3d5-684bc77ec8ea",
        "colab": {
          "base_uri": "https://localhost:8080/",
          "height": 34
        }
      },
      "source": [
        "#バイアス（標準化したため0)\n",
        "reg_model.intercept_"
      ],
      "execution_count": 0,
      "outputs": [
        {
          "output_type": "execute_result",
          "data": {
            "text/plain": [
              "array([21.2304318])"
            ]
          },
          "metadata": {
            "tags": []
          },
          "execution_count": 37
        }
      ]
    },
    {
      "cell_type": "code",
      "metadata": {
        "id": "f6lGHIh_cVz-",
        "colab_type": "code",
        "outputId": "2d2963cb-4f95-4063-cbfe-604a66d90884",
        "colab": {
          "base_uri": "https://localhost:8080/",
          "height": 34
        }
      },
      "source": [
        "#決定係数\n",
        "reg_model.score(x_df,t_df)"
      ],
      "execution_count": 0,
      "outputs": [
        {
          "output_type": "execute_result",
          "data": {
            "text/plain": [
              "0.5952703859618937"
            ]
          },
          "metadata": {
            "tags": []
          },
          "execution_count": 38
        }
      ]
    },
    {
      "cell_type": "markdown",
      "metadata": {
        "id": "ILZ-btW0mpSE",
        "colab_type": "text"
      },
      "source": [
        "#結果\n",
        "なぜか日照時間の重みが負の値になってしまった。合計全日射量はいい感じ"
      ]
    }
  ]
}